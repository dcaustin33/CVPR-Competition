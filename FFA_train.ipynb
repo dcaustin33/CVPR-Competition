{
 "cells": [
  {
   "cell_type": "code",
   "execution_count": 2,
   "metadata": {},
   "outputs": [
    {
     "name": "stdout",
     "output_type": "stream",
     "text": [
      "cuda\n",
      "cuda\n"
     ]
    }
   ],
   "source": [
    "\"\"\"\n",
    "Trains the FFA Net model\n",
    "\"\"\"\n",
    "\n",
    "import torch\n",
    "from torchvision import transforms, datasets\n",
    "import torchvision\n",
    "\n",
    "# Import common neural network API in pytorch\n",
    "import torch.nn as nn\n",
    "import torch.nn.functional as F\n",
    "\n",
    "\n",
    "# Import optimizer related API\n",
    "import torch.optim as optim\n",
    "\n",
    "from torch.utils.data import Dataset\n",
    "from torch.utils.data import DataLoader\n",
    "\n",
    "# Check device, using gpu 0 if gpu exist else using cpu\n",
    "device = torch.device(\"cuda\" if torch.cuda.is_available() else \"cpu\")\n",
    "print(device)\n",
    "import numpy as np\n",
    "from torchvision.models.detection.faster_rcnn import FastRCNNPredictor\n",
    "\n",
    "\n",
    "from matplotlib import image\n",
    "from PIL import Image\n",
    "from torchvision import transforms as tfs\n",
    "import os\n",
    "import matplotlib.patches as patches\n",
    "\n",
    "import matplotlib.pyplot as plt\n",
    "from data_utils import *\n"
   ]
  },
  {
   "cell_type": "code",
   "execution_count": 2,
   "metadata": {},
   "outputs": [],
   "source": [
    "#load the model\n",
    "from ffa_net import *\n",
    "net=FFA(gps=3,blocks=19)\n",
    "\n",
    "#sets whether to use the publicly available github model provided by the authoers\n",
    "pretrained_github = True\n",
    "if pretrained_github:\n",
    "    #load FFA model\n",
    "    if device == 'CUDA':\n",
    "        tensor = torch.load('./CVPR_comp/models/its_train_ffa_3_19.pk')\n",
    "    else:\n",
    "        tensor = torch.load('./CVPR_comp/models/its_train_ffa_3_19.pk', map_location=torch.device('cpu'))\n",
    "\n",
    "    #model has to be parsed to be loaded\n",
    "    new_dict = {}\n",
    "    for i in tensor['model'].keys():\n",
    "        new_dict[i[7:]] = tensor['model'][i]\n",
    "    net.load_state_dict(new_dict)\n",
    "else:\n",
    "    net = torch.load('./CVPR_comp/models/ffa_net_v1.pt')"
   ]
  },
  {
   "cell_type": "code",
   "execution_count": 3,
   "metadata": {},
   "outputs": [],
   "source": [
    "#load the data and conducts a train and validation split\n",
    "ffa_data = CustomDatasetFFA('./CVPR_comp/train/haze_images/')\n",
    "train_size = int(0.8 * ffa_data.__len__())\n",
    "test_size = ffa_data.__len__()- train_size\n",
    "g = torch.Generator()\n",
    "g.manual_seed(0)\n",
    "train_dataset, test_dataset = torch.utils.data.random_split(ffa_data, [train_size, test_size], generator=g)"
   ]
  },
  {
   "cell_type": "code",
   "execution_count": 4,
   "metadata": {},
   "outputs": [
    {
     "name": "stdout",
     "output_type": "stream",
     "text": [
      "0.09960460865071842\n",
      "0.09059978052973747\n",
      "0.08727864431483405\n",
      "0.017595005594193934\n",
      "0.08628011473587581\n",
      "0.08402190799159663\n",
      "0.08054924415690558\n",
      "0.01783654804208449\n",
      "0.08139331298215048\n",
      "0.07967009970120022\n",
      "0.07777255044451782\n",
      "0.017495380036000693\n",
      "0.07717314309307508\n",
      "0.07610047459602357\n",
      "0.07479414870696409\n",
      "0.016495209373533725\n",
      "0.07548260710069112\n",
      "0.07412704357079097\n",
      "0.07322687144790377\n",
      "0.01644996681383678\n",
      "0.07282198114054543\n",
      "0.07167588057262557\n",
      "0.0721795130521059\n",
      "0.016419896969039526\n",
      "0.07256500465529306\n",
      "0.07062541001609393\n",
      "0.06976951392633575\n",
      "0.01783223150830184\n",
      "0.07030701073152679\n",
      "0.06871083735355309\n",
      "0.06840655761105674\n",
      "0.01599223523932908\n",
      "0.0689736614802054\n",
      "0.06710689807576793\n",
      "0.0663759137902941\n",
      "0.016032088667686496\n",
      "0.06723385091338839\n",
      "0.06621259562671185\n",
      "0.0659274042717048\n",
      "0.01637914877251855\n"
     ]
    }
   ],
   "source": [
    "optimizer = None\n",
    "prev_loss = 110000000000000\n",
    "\n",
    "#trains the model to dehaze\n",
    "for i in range(10):\n",
    "    net, optimizer = train_ffa(train_dataset, net, 3, lr = .0001, optimizer = optimizer)\n",
    "    with torch.no_grad():\n",
    "        loss = eval_ffa(test_dataset, net, 1)\n",
    "    if loss < prev_loss:\n",
    "        print('saved')\n",
    "        prev_loss = loss\n",
    "        torch.save(net, \"./CVPR_comp/models/ffa_v4.pt\" )"
   ]
  },
  {
   "cell_type": "code",
   "execution_count": 21,
   "metadata": {},
   "outputs": [
    {
     "name": "stdout",
     "output_type": "stream",
     "text": [
      "0.018142617573695525\n"
     ]
    }
   ],
   "source": [
    "#evaluates one final time\n",
    "with torch.no_grad():\n",
    "    net = eval_ffa(test_dataset, net, 1)\n",
    "    \n",
    "print_ffa_pic(1, test_dataset, net)"
   ]
  },
  {
   "cell_type": "code",
   "execution_count": 40,
   "metadata": {},
   "outputs": [],
   "source": [
    "#net = train_eval_ffa(ffa_data, net, 2, train = True)\n",
    "save = False\n",
    "if save = True:\n",
    "    torch.save(net, './CVPR_comp/models/ffa_net_v1.pt')"
   ]
  }
 ],
 "metadata": {
  "interpreter": {
   "hash": "56a53f33d1fc12c91306edcc47f5c4eb0fc948aa30cba4bf612a9dddaf73f5c4"
  },
  "kernelspec": {
   "display_name": "Python 3 (ipykernel)",
   "language": "python",
   "name": "python3"
  },
  "language_info": {
   "codemirror_mode": {
    "name": "ipython",
    "version": 3
   },
   "file_extension": ".py",
   "mimetype": "text/x-python",
   "name": "python",
   "nbconvert_exporter": "python",
   "pygments_lexer": "ipython3",
   "version": "3.9.7"
  }
 },
 "nbformat": 4,
 "nbformat_minor": 2
}
